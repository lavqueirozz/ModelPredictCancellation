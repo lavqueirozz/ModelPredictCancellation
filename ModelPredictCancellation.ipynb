{
 "cells": [
  {
   "cell_type": "markdown",
   "id": "6b05b137-826d-4a41-b8c1-9e3368cf0a24",
   "metadata": {},
   "source": [
    "**MODEL OF MACHINE LEARNING FOR PREDICT CANCELLATION OF SUBSCRIPTIONS (MODEL OF CLASSIFICATION)**"
   ]
  },
  {
   "cell_type": "code",
   "execution_count": null,
   "id": "c0490b71-4d33-46db-bfd6-9c199d982378",
   "metadata": {},
   "outputs": [],
   "source": [
    "#importing packages that will be used"
   ]
  },
  {
   "cell_type": "code",
   "execution_count": null,
   "id": "32f720c3-ffb8-4765-8898-e880f0075571",
   "metadata": {},
   "outputs": [],
   "source": [
    "#For Data treatment\n",
    "import pandas as pd\n",
    "import numpy as np\n",
    "import matplotlib.pyplot as plt\n",
    "import seaborn as sns\n",
    "import time\n",
    "#Libraries Skit Learn\n",
    "from sklearn.model_selection import train_test_split # Used to separate Data to training and testing\n",
    "from sklearn.preprocessing import StandardScaler # Used to make a Data Standardization \n",
    "from sklearn.preprocessing import LabelEncoder #To make OneHotEncoder\n",
    "from sklearn.metrics import accuracy_score #Used to assess acuraccy from the model predctive\n",
    "from sklearn.neighbors import KNeighborsClassifier # The model of Machine Learning\n",
    "from imblearn import under_sampling, over_sampling # Used to make a balance of Data\n",
    "from imblearn.over_sampling import SMOTE # Used to make a balance of data too \n",
    "# to remove alert notices\n",
    "import warnings\n",
    "warnings.filterwarnings('ignore')\n",
    "\n",
    "#for dataframe display\n",
    "pd.set_option('display.max_columns',None)\n",
    "pd.set_option('display.max_rows',None)"
   ]
  },
  {
   "cell_type": "markdown",
   "id": "d29b7a64-0f2b-423d-82e0-4266a0d83ebf",
   "metadata": {},
   "source": [
    "   **1- ANALISYS AND DATA COLLECTION**"
   ]
  },
  {
   "cell_type": "code",
   "execution_count": null,
   "id": "0559f5e9-9800-4184-8282-21e7b96258d2",
   "metadata": {},
   "outputs": [],
   "source": [
    "df_original = pd.read_csv(\"C:/Users/lavin/Documents/dados.csv\", sep = ';')"
   ]
  },
  {
   "cell_type": "code",
   "execution_count": null,
   "id": "dc8e959f-6eea-47ef-8dc9-20d9eb3e16a6",
   "metadata": {},
   "outputs": [],
   "source": [
    "df_original.shape"
   ]
  },
  {
   "cell_type": "markdown",
   "id": "29cc35b4-dce7-40ef-96ce-352e6182fc30",
   "metadata": {},
   "source": [
    "**448447 Lines and 24 Columns**"
   ]
  },
  {
   "cell_type": "code",
   "execution_count": null,
   "id": "b60ad23a-3394-4bf8-9f7c-4b90887b64ca",
   "metadata": {},
   "outputs": [],
   "source": [
    "df_original.head()"
   ]
  },
  {
   "cell_type": "code",
   "execution_count": null,
   "id": "fc23be47-4932-4b92-94c8-fd6a0aba8794",
   "metadata": {},
   "outputs": [],
   "source": [
    "df_original.info()"
   ]
  },
  {
   "cell_type": "markdown",
   "id": "73fd8a3c-dbf4-4c4f-911e-353d2bcff016",
   "metadata": {},
   "source": [
    "**7 categorical Columns**"
   ]
  },
  {
   "cell_type": "code",
   "execution_count": null,
   "id": "4ebb3cd7-3130-445c-987b-ffe73763fff1",
   "metadata": {},
   "outputs": [],
   "source": [
    "df_original.describe()"
   ]
  },
  {
   "cell_type": "code",
   "execution_count": null,
   "id": "e83b4b42-c4c5-4a1a-97cc-409bd010dc4e",
   "metadata": {},
   "outputs": [],
   "source": [
    "df_original.isnull().sum()"
   ]
  },
  {
   "cell_type": "markdown",
   "id": "b629afb8-3aea-4cd6-99e8-5222ebd71910",
   "metadata": {},
   "source": [
    "**2 Columns with values missings** QT_FILHOS and DT_CANCELAMENTO"
   ]
  },
  {
   "cell_type": "code",
   "execution_count": null,
   "id": "953887b7-49b2-4d1a-9b8a-bd8552fbcf69",
   "metadata": {},
   "outputs": [],
   "source": [
    "df_original.nunique()"
   ]
  },
  {
   "cell_type": "code",
   "execution_count": null,
   "id": "462b63cc-d9f8-47c4-8c6c-1968d3a09d2c",
   "metadata": {},
   "outputs": [],
   "source": [
    "df_original.info()"
   ]
  },
  {
   "cell_type": "code",
   "execution_count": null,
   "id": "c1fb1e5e-1439-43f1-845e-4136b73370aa",
   "metadata": {},
   "outputs": [],
   "source": [
    "start = pd.to_datetime(df_original['DT_AQUISICAO']).dt.date.min()\n",
    "end = pd.to_datetime(df_original['DT_AQUISICAO']).dt.date.max()\n",
    "print(f'Period of data - Start: {start} / End: {end}')\n",
    "                        "
   ]
  },
  {
   "cell_type": "markdown",
   "id": "38c2a60c-37ac-4f1a-b303-256d5d157f1a",
   "metadata": {},
   "source": [
    "**2- ANALYSIS OF CATEGORICAL VARIABLES (ALL OF WHICH ARE OBJECTS)**\n",
    "- SITUACAO      \n",
    "- NOME_PRODUTO  \n",
    "- DURACAO_CONTRATO\n",
    "- SEXO\n",
    "- FORMA_AQUISICAO\n"
   ]
  },
  {
   "cell_type": "code",
   "execution_count": null,
   "id": "7031af50-03e6-4c12-a742-5cfcef813b7e",
   "metadata": {},
   "outputs": [],
   "source": [
    "df_original.groupby(['SITUACAO']).size()"
   ]
  },
  {
   "cell_type": "code",
   "execution_count": null,
   "id": "0a4acfa5-86c1-4fe2-bfaf-dba05d47de55",
   "metadata": {},
   "outputs": [],
   "source": [
    "df_original.groupby(['NOME_PRODUTO']).size()"
   ]
  },
  {
   "cell_type": "code",
   "execution_count": null,
   "id": "0fad2118-e2fa-4362-9339-a6b104d37d30",
   "metadata": {},
   "outputs": [],
   "source": [
    "df_original.groupby(['DURACAO_CONTRATO']).size()"
   ]
  },
  {
   "cell_type": "code",
   "execution_count": null,
   "id": "ee68ef15-3b9f-4070-8c4a-0a540b5908d4",
   "metadata": {},
   "outputs": [],
   "source": [
    "df_original.groupby(['SEXO']).size()"
   ]
  },
  {
   "cell_type": "code",
   "execution_count": null,
   "id": "906a84be-4c35-4dd3-a321-5567abecc506",
   "metadata": {},
   "outputs": [],
   "source": [
    "df_original.groupby(['FORMA_AQUISICAO']).size()"
   ]
  },
  {
   "cell_type": "markdown",
   "id": "4e0d015c-80c0-4ca7-a2ca-adcd467c28cb",
   "metadata": {},
   "source": [
    "- The product more used is the Basic Plan (30 canais hd)\n",
    "- And the least used product is the Medium Plan TOP (90 canais hd)\n",
    "- The limit of duration of contract is 48 months\n",
    "- The values missings of dataframe is the columns: QT_FILHOS and DT_CANCELAMENTO"
   ]
  },
  {
   "cell_type": "markdown",
   "id": "6ae52f9a-9320-4a77-bd7e-24ff712f3fd3",
   "metadata": {},
   "source": [
    "**I made these graphics below to better visualize of data**"
   ]
  },
  {
   "cell_type": "code",
   "execution_count": null,
   "id": "a044b80f-7c34-4524-b3db-2fef6b9d2a67",
   "metadata": {},
   "outputs": [],
   "source": [
    "plt.rcParams['figure.figsize'] = [12.00,3.50]\n",
    "plt.rcParams['figure.autolayout'] = True\n",
    "f, axes = plt.subplots(1,2)\n",
    "sns.countplot(data = df_original, x='SEXO', hue='SITUACAO', ax = axes [0])\n",
    "sns.countplot(data = df_original, x='FORMA_AQUISICAO', hue='SITUACAO', ax = axes[1])\n",
    "plt.show"
   ]
  },
  {
   "cell_type": "markdown",
   "id": "69e0e27a-c6d2-48b6-9291-d557ce320712",
   "metadata": {},
   "source": [
    "**In these graphics who we can see above show us a insight valuable:**\n",
    "- The costummers prefer to make shop online and the diference between cancellations is very small"
   ]
  },
  {
   "cell_type": "code",
   "execution_count": null,
   "id": "f7315b65-a44f-447f-9c85-6ce84a9539fd",
   "metadata": {},
   "outputs": [],
   "source": []
  },
  {
   "cell_type": "code",
   "execution_count": null,
   "id": "1b64e85b-4d52-4505-913e-70a2c4413132",
   "metadata": {},
   "outputs": [],
   "source": [
    "plt.rcParams['figure.figsize'] = [7.00,5.00]\n",
    "plt.rcParams['figure.autolayout'] = True\n",
    "sns.countplot(data = df_original, x = 'DURACAO_CONTRATO', hue = 'SITUACAO')\n",
    "plt.show"
   ]
  },
  {
   "cell_type": "markdown",
   "id": "42cae1f0-89a1-41c7-bfed-5f68716d8dcf",
   "metadata": {},
   "source": [
    "**Here we can see whats is the contract preferred by the costummers: 48 Months**"
   ]
  },
  {
   "cell_type": "code",
   "execution_count": null,
   "id": "bfc568a0-e6d0-48e2-87d0-8e5226bba442",
   "metadata": {},
   "outputs": [],
   "source": []
  },
  {
   "cell_type": "code",
   "execution_count": null,
   "id": "883977de-2cc5-4965-a4c5-d30759dc48b2",
   "metadata": {},
   "outputs": [],
   "source": [
    "plt.rcParams['figure.figsize'] = [12.00,7.00]\n",
    "plt.rcParams['figure.autolayout'] = True\n",
    "sns.countplot(data = df_original, x = 'NOME_PRODUTO', hue = 'SITUACAO')\n",
    "plt.xticks(rotation = 70)\n",
    "plt.show"
   ]
  },
  {
   "cell_type": "markdown",
   "id": "a4223572-c93f-4778-bb19-1d9605fb136d",
   "metadata": {},
   "source": [
    "**On column 'NOME_PRODUTO' we can see the favorite product of costummers is the : Plano Basico (30 canais HD)**"
   ]
  },
  {
   "cell_type": "code",
   "execution_count": null,
   "id": "dfaa593c-09da-4ec0-a892-c79505360a0e",
   "metadata": {},
   "outputs": [],
   "source": []
  },
  {
   "cell_type": "markdown",
   "id": "bd40c4c2-be26-4d62-b649-35b513bdb166",
   "metadata": {},
   "source": [
    "**3- ANAlISYS OF VARIABLES NUMERICAL**"
   ]
  },
  {
   "cell_type": "markdown",
   "id": "30f5c5c8-0bc3-4e65-ab2e-1614f42c013a",
   "metadata": {},
   "source": [
    "**First i used a function 'FOR' to make a variable with all numeric columns**"
   ]
  },
  {
   "cell_type": "code",
   "execution_count": null,
   "id": "db70ba77-8a16-4689-9ec8-007b7d8fd399",
   "metadata": {},
   "outputs": [],
   "source": [
    "# we will not use the column 1 ID_CLIENTE because it is not necessary\n",
    "numeric_variable = [] #i make this variable empty for put the numeric collumns in there\n",
    "for i in df_original.columns[1:24].tolist():\n",
    "         if df_original.dtypes[i] == 'int64' or df_original.dtypes[i] == 'float64':\n",
    "           print (i, ':', df_original.dtypes[i])\n",
    "           numeric_variable.append(i)"
   ]
  },
  {
   "cell_type": "code",
   "execution_count": null,
   "id": "396d232c-da64-459c-9894-e4cfa1994346",
   "metadata": {},
   "outputs": [],
   "source": [
    "len(numeric_variable)"
   ]
  },
  {
   "cell_type": "markdown",
   "id": "d95bb6d2-2d60-4605-85f6-bddd9059a138",
   "metadata": {},
   "source": [
    "**16 numeric columns**"
   ]
  },
  {
   "cell_type": "code",
   "execution_count": null,
   "id": "22a78755-3258-4ddc-8c33-848fe7c58402",
   "metadata": {},
   "outputs": [],
   "source": []
  },
  {
   "cell_type": "markdown",
   "id": "4ac7b384-88b4-466f-85ea-42682e326cc2",
   "metadata": {},
   "source": [
    "**Now i make graphics BOXPLOT to check if dataframe have outliers (using numeric_variable)**"
   ]
  },
  {
   "cell_type": "code",
   "execution_count": null,
   "id": "be199b60-9281-47cf-b8b3-a29ed8784fd7",
   "metadata": {},
   "outputs": [],
   "source": [
    "plt.rcParams ['figure.figsize'] = (14.00, 24.00)\n",
    "plt.rcParams['figure.autolayout'] = True\n",
    "f, axes = plt.subplots(4,4)\n",
    "\n",
    "#I created a 'for' function that every time it passes through a column it creates a boxplot graph\n",
    "\n",
    "line = 0\n",
    "column = 0\n",
    "\n",
    "for i in numeric_variable:\n",
    "    sns.boxplot(data=df_original, y=i, ax=axes[line][column])\n",
    "    column += 1\n",
    "    if column == 4:\n",
    "        line+=1\n",
    "        column = 0\n",
    "plt.show()"
   ]
  },
  {
   "cell_type": "markdown",
   "id": "755d2c83-2089-43af-a1fe-9177cdf23aec",
   "metadata": {},
   "source": [
    "**Columns whith OUTLIERS:**\n",
    "- QT_FILHOS \n",
    "- QT_PC_PAGAS\n",
    "- QT_PC_PAGA_EM_DIA\n",
    "- "
   ]
  },
  {
   "cell_type": "markdown",
   "id": "440ae6c5-f294-46c3-973c-bb7cdc83bb7c",
   "metadata": {},
   "source": [
    "**4- TRATAMENT OF DATA WITH OUTLIERS** "
   ]
  },
  {
   "cell_type": "markdown",
   "id": "c18f22b3-60e1-4ea8-a80d-acb7c7a90e51",
   "metadata": {},
   "source": [
    "**I make a tratament of column \"QT_FILHOS\"**\n",
    "- I create a new dataframe to put the processed data \n",
    "- I put on new dataframe the column QT_FILHOS without outliers\n",
    "- After this i visualize the median from \"QT_FILHOS\" column for replace the null values\n",
    "- Last i make a 'fillna' function for put in null values the median of column QT_FILHOS"
   ]
  },
  {
   "cell_type": "code",
   "execution_count": null,
   "id": "f3d2a2ee-aaad-44ed-9766-114ea8e25055",
   "metadata": {},
   "outputs": [],
   "source": [
    "df_data = df_original.loc[df_original['QT_FILHOS'] <= 2]"
   ]
  },
  {
   "cell_type": "code",
   "execution_count": null,
   "id": "f8c9c4af-ca15-4c65-bc91-5c67c1610783",
   "metadata": {},
   "outputs": [],
   "source": [
    "df_data.groupby(['QT_FILHOS']).size()"
   ]
  },
  {
   "cell_type": "code",
   "execution_count": null,
   "id": "30277e05-267a-43e2-81f6-ecad26647b86",
   "metadata": {},
   "outputs": [],
   "source": [
    "#visualize the median of the data\n",
    "df_data['QT_FILHOS'].median()"
   ]
  },
  {
   "cell_type": "code",
   "execution_count": null,
   "id": "5cb2aff4-3f21-444d-9b0e-6973e183a7e9",
   "metadata": {},
   "outputs": [],
   "source": [
    "#I filled in the null values with the median of the data\n",
    "df_data['QT_FILHOS']= df_data['QT_FILHOS'].fillna((df_data['QT_FILHOS'].median()))\n",
    "df_data['QT_FILHOS'].isnull().sum()"
   ]
  },
  {
   "cell_type": "code",
   "execution_count": null,
   "id": "d9dac24f-b42b-4d83-9ce5-166aad93901b",
   "metadata": {},
   "outputs": [],
   "source": [
    "# replacing object data with numeric data\n",
    "df_data['DURACAO_CONTRATO']= df_data['DURACAO_CONTRATO'].replace(['12 Meses'],12)\n",
    "df_data['DURACAO_CONTRATO']= df_data['DURACAO_CONTRATO'].replace(['24 Meses'],24)\n",
    "df_data['DURACAO_CONTRATO']= df_data['DURACAO_CONTRATO'].replace(['36 Meses'],36)\n",
    "df_data['DURACAO_CONTRATO']= df_data['DURACAO_CONTRATO'].replace(['48 Meses'],48)"
   ]
  },
  {
   "cell_type": "code",
   "execution_count": null,
   "id": "24370f5b-2547-4161-a454-4438454d34ac",
   "metadata": {
    "scrolled": true
   },
   "outputs": [],
   "source": [
    "df_data.head()"
   ]
  },
  {
   "cell_type": "markdown",
   "id": "d3fad041-2b8d-4b75-a444-9b1815f2dd99",
   "metadata": {},
   "source": [
    "**Doing tratament of column QT_PC_PAGAS**\n",
    "- In this part we can see a error between 'DURACAO_CONTRATO', 'QT_PC_PAGAS' and 'QT_PC_PAGA_EM_DIA'\n",
    "- Whats is the error? in the 'DURACAO_CONTRATO' column we only have contracts of up to 48 months, but in the 'QT_PC_PAGAS' and 'QT_PC_PAGA_EM_DIA' columns we have installments with values greater than 48 months\n",
    "- So i put in dataframe 'df_data' only data above 48 months"
   ]
  },
  {
   "cell_type": "code",
   "execution_count": null,
   "id": "0e641e2a-6654-4542-bdab-f26b034e54fc",
   "metadata": {},
   "outputs": [],
   "source": [
    "df_data = df_original.loc[df_original['QT_PC_PAGAS'] <= 48]\n",
    "df_data.groupby(['QT_PC_PAGAS']).size()"
   ]
  },
  {
   "cell_type": "markdown",
   "id": "d6e61557-d921-46a4-bac7-93b842d9d82a",
   "metadata": {},
   "source": [
    "**Doing the same thing with 'QT_PC_PAGA_EM_DIA' column what i made with the column above**"
   ]
  },
  {
   "cell_type": "code",
   "execution_count": null,
   "id": "044ea670-8b1b-4c5a-ad02-a85e95388f3a",
   "metadata": {},
   "outputs": [],
   "source": [
    "df_data = df_original.loc[df_original['QT_PC_PAGA_EM_DIA'] <= 48]\n",
    "df_data.groupby(['QT_PC_PAGA_EM_DIA']).size()"
   ]
  },
  {
   "cell_type": "markdown",
   "id": "9c621210-3815-4b18-9c21-929081c47913",
   "metadata": {},
   "source": []
  },
  {
   "cell_type": "markdown",
   "id": "72f1a385-337a-40f2-945b-382458a1fa6e",
   "metadata": {},
   "source": [
    "**5- FEATURE ENGINEERING**\n",
    "- I categorize the columns \"QT_PC_PAGAS\"\n",
    "- Create a new column called 'NIVEL_PAGAMENTO\"\n",
    "- Used a function of pandas pd.cut for categorize the data"
   ]
  },
  {
   "cell_type": "code",
   "execution_count": null,
   "id": "d1970c56-a90f-4521-8c79-a6315a64d8de",
   "metadata": {},
   "outputs": [],
   "source": [
    "bins = (-100, 3, 6, 12, 48)\n",
    "labels = ('BAD', 'MEDIUM', 'GOOD', 'GREAT')\n",
    "\n",
    "df_data['NIVEL_PAGAMENTO'] = pd.cut(df_data['QT_PC_PAGAS'], bins = bins, labels = labels)\n",
    "df_data.groupby(['NIVEL_PAGAMENTO']).size()"
   ]
  },
  {
   "cell_type": "code",
   "execution_count": null,
   "id": "2b88dd27-0c29-4e59-8b69-4ff3435a2ecf",
   "metadata": {},
   "outputs": [],
   "source": []
  },
  {
   "cell_type": "markdown",
   "id": "b830c3cf-9527-4c1e-b719-88c8e9c98693",
   "metadata": {},
   "source": [
    "**6- TRANSFORMATION OF DATA FOR PREDICTION** \n",
    "- First i copied the dataframe df_data to dataframe df_data2 to do this transformation and dont lose the data if something happens\n",
    "- I transform data using the function Label Encoder of Skit-Learn"
   ]
  },
  {
   "cell_type": "code",
   "execution_count": null,
   "id": "f33f1da8-2647-4fbb-80a1-bf4fdd9f47ef",
   "metadata": {},
   "outputs": [],
   "source": [
    "df_data2 = df_data.copy()\n",
    "df_data2.head()"
   ]
  },
  {
   "cell_type": "code",
   "execution_count": null,
   "id": "51748476-2e64-49e6-9bf9-48191ead9762",
   "metadata": {},
   "outputs": [],
   "source": [
    "#I make another replace and another fillna because the first didn't worked on df_data2\n",
    "df_data2['DURACAO_CONTRATO']= df_data2['DURACAO_CONTRATO'].replace(['12 Meses'],12)\n",
    "df_data2['DURACAO_CONTRATO']= df_data2['DURACAO_CONTRATO'].replace(['24 Meses'],24)\n",
    "df_data2['DURACAO_CONTRATO']= df_data2['DURACAO_CONTRATO'].replace(['36 Meses'],36)\n",
    "df_data2['DURACAO_CONTRATO']= df_data2['DURACAO_CONTRATO'].replace(['48 Meses'],48)\n",
    "df_data2.head()\n",
    "\n",
    "df_data2['QT_FILHOS']= df_data2['QT_FILHOS'].fillna((df_data2[\"QT_FILHOS\"]).mean())\n",
    "df_data2['QT_FILHOS'].isnull().sum()"
   ]
  },
  {
   "cell_type": "code",
   "execution_count": null,
   "id": "778ef556-a449-4ba5-a70c-5083d1863d55",
   "metadata": {},
   "outputs": [],
   "source": [
    "lb = LabelEncoder()\n",
    "\n",
    "df_data2['SEXO'] = lb.fit_transform(df_data2['SEXO'])\n",
    "df_data2['FORMA_AQUISICAO'] = lb.fit_transform(df_data2['FORMA_AQUISICAO'])\n",
    "df_data2['NOME_PRODUTO'] = lb.fit_transform(df_data2['NOME_PRODUTO'])\n",
    "df_data2['NIVEL_PAGAMENTO'] = lb.fit_transform(df_data2['NIVEL_PAGAMENTO'])"
   ]
  },
  {
   "cell_type": "code",
   "execution_count": null,
   "id": "4e721221-29b7-4aea-9c91-a8f5432e2e82",
   "metadata": {},
   "outputs": [],
   "source": [
    "df_data2.head(20)"
   ]
  },
  {
   "cell_type": "code",
   "execution_count": null,
   "id": "d3d2d662-fc84-409e-8922-a0c6eca622d6",
   "metadata": {},
   "outputs": [],
   "source": [
    "# REMOVING THE COLUMNS THAT WE WILL NOT USE\n",
    "df_data2.columns.tolist()"
   ]
  },
  {
   "cell_type": "code",
   "execution_count": null,
   "id": "32722014-4fb8-4262-8b35-391c60722161",
   "metadata": {},
   "outputs": [],
   "source": [
    "#removing\n",
    "columns = [ 'FORMA_AQUISICAO',\n",
    " 'IDADE_CLIENTE',\n",
    " 'SEXO',\n",
    " 'QT_FILHOS',\n",
    " 'DIAS_ATIVO',\n",
    " 'MESES_ATIVO',\n",
    " 'DURACAO_CONTRATO',\n",
    " 'VL_PLANO_ADESAO',\n",
    " 'VL_PLANO_ATUAL',\n",
    " 'NOME_PRODUTO',\n",
    " 'QT_PONTOS_INSTALADOS',\n",
    " 'QT_PC_PAGAS',\n",
    " 'QT_PC_VENCIDAS',\n",
    " 'QT_PC_PAGA_ATRASO',\n",
    " 'QT_PC_PAGA_EM_DIA',\n",
    " 'QT_ACORDO_PAGAMENTO',\n",
    " 'VL_MENSALIDADE_ATRASO',\n",
    " 'VL_MENSALIDADE_DT_AQUISICAO',\n",
    " 'VL_MENSALIDADE_DT_ATUAL',\n",
    " 'NIVEL_PAGAMENTO',\n",
    " 'COD_SITUACAO']\n",
    "\n",
    "df_data2 = pd.DataFrame(df_data2, columns = columns)"
   ]
  },
  {
   "cell_type": "code",
   "execution_count": null,
   "id": "81794bc5-ec77-4cc0-a924-3d06807552a9",
   "metadata": {},
   "outputs": [],
   "source": [
    "df_data2.head()"
   ]
  },
  {
   "cell_type": "code",
   "execution_count": null,
   "id": "93d120b4-100c-49e8-aca3-ec837ca1b1c3",
   "metadata": {},
   "outputs": [],
   "source": [
    "#Checking type of data\n",
    "df_data2.info()"
   ]
  },
  {
   "cell_type": "markdown",
   "id": "949626ea-55b2-4ed3-8065-f00677566084",
   "metadata": {},
   "source": []
  },
  {
   "cell_type": "markdown",
   "id": "1aa1a6aa-34bb-4360-9f6c-773cb8746eff",
   "metadata": {},
   "source": [
    "**8- DOING THE BALANCE OF DATA**\n",
    "- When i made the first graphs at the beginning of the analysis i noticed  that there was an imbalance between the columns\n",
    "- So i match this data to model make the predction"
   ]
  },
  {
   "cell_type": "code",
   "execution_count": null,
   "id": "1c616b50-ef74-4c7a-a54c-a5360a46b075",
   "metadata": {},
   "outputs": [],
   "source": [
    "#I made a graph for the better visualization\n",
    "plt.rcParams['figure.figsize'] = (7.00 , 4.00)\n",
    "plt.rcParams['figure.autolayout'] = True\n",
    "df_data2.COD_SITUACAO.value_counts().plot(kind = 'bar', title = \"Cliente Ativos x Clientes Inativos\" )\n",
    "# 0 = Ativo \n",
    "# 1 = Inativo"
   ]
  },
  {
   "cell_type": "code",
   "execution_count": null,
   "id": "d0d42cd6-d410-4b88-96ed-ba63d6b0a5ee",
   "metadata": {},
   "outputs": [],
   "source": [
    "# I saparated predictor columns and target column\n",
    "PREDICTOR = df_data2.iloc[:, 0:20]\n",
    "TARGET = df_data2.iloc[:,20]"
   ]
  },
  {
   "cell_type": "code",
   "execution_count": null,
   "id": "84069b94-0b9e-47d2-9b43-97de5f615a16",
   "metadata": {},
   "outputs": [],
   "source": [
    "PREDICTOR.head()"
   ]
  },
  {
   "cell_type": "code",
   "execution_count": null,
   "id": "63fdbcb5-1814-4286-b423-f4ca6aa85ed5",
   "metadata": {},
   "outputs": [],
   "source": [
    "TARGET.head()"
   ]
  },
  {
   "cell_type": "code",
   "execution_count": null,
   "id": "9ae06c3b-babc-4ba2-badc-6a90d62a209a",
   "metadata": {},
   "outputs": [],
   "source": [
    "#making data balancing \n",
    "\n",
    "#seed to get the same result \n",
    "seed = (100)\n",
    "\n",
    "#Creating the balancer smote\n",
    "balance = SMOTE(random_state = seed)\n",
    "\n",
    "#applying the balancer\n",
    "PREDICTOR_RES, TARGET_RES = balance.fit_resample(PREDICTOR, TARGET)\n"
   ]
  },
  {
   "cell_type": "code",
   "execution_count": null,
   "id": "0d2a8a36-c1f3-4406-942d-d7aada145c55",
   "metadata": {},
   "outputs": [],
   "source": [
    "#Now viewing the balanced TARGET table\n",
    "plt.rcParams['figure.figsize'] = (12.00 , 5.00)\n",
    "plt.rcParams['figure.autolayout'] = True\n",
    "TARGET_RES.value_counts().plot(kind = 'bar', title = \"Cliente Ativos x Clientes Inativos\" )"
   ]
  },
  {
   "cell_type": "code",
   "execution_count": null,
   "id": "e4b546cc-b054-41ed-b624-6452adc35967",
   "metadata": {},
   "outputs": [],
   "source": [
    "#Quantity of data before balancing\n",
    "PREDICTOR.shape"
   ]
  },
  {
   "cell_type": "code",
   "execution_count": null,
   "id": "abed55a4-0d55-4f8a-bffe-228717a0be1b",
   "metadata": {},
   "outputs": [],
   "source": [
    "#Quantity of data before balancing\n",
    "TARGET.shape"
   ]
  },
  {
   "cell_type": "code",
   "execution_count": null,
   "id": "9bd5edb5-7b64-41b9-8d9a-a858cd78e563",
   "metadata": {},
   "outputs": [],
   "source": [
    "#Quantity of data after balancing\n",
    "TARGET_RES.shape"
   ]
  },
  {
   "cell_type": "code",
   "execution_count": null,
   "id": "7f3087f3-8638-489e-8767-4b2b17eba27a",
   "metadata": {},
   "outputs": [],
   "source": [
    "#Quantity of data after balancing\n",
    "PREDICTOR_RES.shape"
   ]
  },
  {
   "cell_type": "code",
   "execution_count": null,
   "id": "ca062795-321f-4897-91f4-a68e270feade",
   "metadata": {},
   "outputs": [],
   "source": []
  },
  {
   "cell_type": "markdown",
   "id": "2efc41eb-e969-4891-88a5-05579a5e967c",
   "metadata": {},
   "source": [
    "**10- Training the model**\n",
    "- Separated data of training and testing\n",
    "- Data Standardization\n",
    "- Create a model"
   ]
  },
  {
   "cell_type": "code",
   "execution_count": null,
   "id": "38bce330-cb1d-4ca8-8655-f8ebc292b6b6",
   "metadata": {},
   "outputs": [],
   "source": [
    "#Training and Testing\n",
    "x_train, x_test, y_train, y_test = train_test_split(PREDICTOR_RES, TARGET_RES, random_state = 42)"
   ]
  },
  {
   "cell_type": "code",
   "execution_count": null,
   "id": "90435d67-95ab-4f16-aac1-f8bd82916db3",
   "metadata": {},
   "outputs": [],
   "source": [
    "#Standardization\n",
    "standardization = StandardScaler()\n",
    "\n",
    "X_train_standard = standardization.fit_transform(x_train)\n",
    "X_test_standard = standardization.transform(x_test)"
   ]
  },
  {
   "cell_type": "code",
   "execution_count": null,
   "id": "378610ab-faf7-4dc7-902e-e82e0ba751fe",
   "metadata": {},
   "outputs": [],
   "source": [
    "X_train_standard"
   ]
  },
  {
   "cell_type": "code",
   "execution_count": null,
   "id": "ccb86238-2571-4b97-b19e-1c35ebe3bb6f",
   "metadata": {},
   "outputs": [],
   "source": [
    "accuracy = []"
   ]
  },
  {
   "cell_type": "code",
   "execution_count": null,
   "id": "bbb82c6e-8272-4660-8c52-d56f5f817d38",
   "metadata": {},
   "outputs": [],
   "source": [
    "#Created a Range for KNN\n",
    "Kvals = range (3,10,2)"
   ]
  },
  {
   "cell_type": "code",
   "execution_count": null,
   "id": "f47e8bfc-37c0-4a00-a146-09d901ee118b",
   "metadata": {},
   "outputs": [],
   "source": [
    "start = time.time()\n",
    "for k in Kvals:\n",
    "    modelKNN = KNeighborsClassifier(n_neighbors = k)\n",
    "    modelKNN.fit(X_train_standard, y_train)\n",
    "\n",
    "    score = modelKNN.score(X_test_standard, y_test)\n",
    "    print(f' with value of: {k}, the accuracy of model is:{score*100}')\n",
    "    accuracy.append(score)\n",
    "end = time.time()\n",
    "print('Model training time:', end - start)    "
   ]
  },
  {
   "cell_type": "code",
   "execution_count": null,
   "id": "62c71135-8efb-40b5-8ab1-5d5d289c87d5",
   "metadata": {},
   "outputs": [],
   "source": [
    "#Checking the model with better score\n",
    "i = np.argmax(accuracy)\n",
    "print(f'The value k = {Kvals[i]}, have the greater accuracy: {accuracy[i]*100}') "
   ]
  },
  {
   "cell_type": "code",
   "execution_count": null,
   "id": "ec344fa7-ba3c-41b3-ae55-d6902402e36d",
   "metadata": {},
   "outputs": [],
   "source": [
    "#Create a final version of model with greater value of 'k'\n",
    "ModelFinal = KNeighborsClassifier(n_neighbors = Kvals[i])"
   ]
  },
  {
   "cell_type": "code",
   "execution_count": null,
   "id": "07e7e7c4-3742-4059-a20d-f03a58cbe15e",
   "metadata": {},
   "outputs": [],
   "source": [
    "#Model training\n",
    "ModelFinal.fit(X_train_standard, y_train)"
   ]
  },
  {
   "cell_type": "code",
   "execution_count": null,
   "id": "b0e2ae9c-22be-4378-b8ab-76f072c96dc3",
   "metadata": {},
   "outputs": [],
   "source": [
    "#Predict with data of test\n",
    "predictors = ModelFinal.predict(X_test_standard)"
   ]
  },
  {
   "cell_type": "code",
   "execution_count": null,
   "id": "d214b909-3024-4449-86ea-429585bfb351",
   "metadata": {},
   "outputs": [],
   "source": [
    "#Model KNN Accuracy\n",
    "print(f'Accuracy of model:{accuracy_score(y_test, predictors)}')"
   ]
  },
  {
   "cell_type": "markdown",
   "id": "5634d6fa-d3d8-40cd-bc4d-d02eca50e79a",
   "metadata": {},
   "source": [
    "**This means that out of 100 times the model got it right 97%**"
   ]
  }
 ],
 "metadata": {
  "kernelspec": {
   "display_name": "Python 3 (ipykernel)",
   "language": "python",
   "name": "python3"
  },
  "language_info": {
   "codemirror_mode": {
    "name": "ipython",
    "version": 3
   },
   "file_extension": ".py",
   "mimetype": "text/x-python",
   "name": "python",
   "nbconvert_exporter": "python",
   "pygments_lexer": "ipython3",
   "version": "3.11.9"
  }
 },
 "nbformat": 4,
 "nbformat_minor": 5
}
